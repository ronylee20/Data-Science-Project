{
 "cells": [
  {
   "cell_type": "markdown",
   "id": "596f9d50",
   "metadata": {},
   "source": [
    "# Crawling"
   ]
  },
  {
   "cell_type": "code",
   "execution_count": null,
   "id": "947bf0a7",
   "metadata": {},
   "outputs": [],
   "source": [
    "import pandas as pd\n",
    "import requests\n",
    "from bs4 import BeautifulSoup\n",
    "import re"
   ]
  },
  {
   "cell_type": "code",
   "execution_count": null,
   "id": "fffb4fbf",
   "metadata": {},
   "outputs": [],
   "source": [
    "def get_page(url):\n",
    "    \n",
    "    response = requests.get(url)\n",
    "    soup = BeautifulSoup(response.content, 'html.parser')\n",
    "    \n",
    "    return soup"
   ]
  },
  {
   "cell_type": "code",
   "execution_count": null,
   "id": "15743b90",
   "metadata": {},
   "outputs": [],
   "source": [
    "robots = get_page(\"https://www.komo.co.il/robots.txt\")\n",
    "robots"
   ]
  },
  {
   "cell_type": "code",
   "execution_count": null,
   "id": "cc9dbba1",
   "metadata": {},
   "outputs": [],
   "source": [
    "#Links to crawl\n",
    "komokomoMazda = get_page(\"https://www.komo.co.il/code/cars/private.asp?yazranNumH=31\")\n",
    "komokomoToyota = get_page(\"https://www.komo.co.il/code/cars/private.asp?yazranNumH=22\")\n",
    "komokomoHyundai = get_page(\"https://www.komo.co.il/code/cars/private.asp?yazranNumH=24\")\n",
    "komokomoSkoda = get_page(\"https://www.komo.co.il/code/cars/private.asp?yazranNumH=43\")\n",
    "komokomoVolkswagen = get_page(\"https://www.komo.co.il/code/cars/private.asp?yazranNumH=44\")\n",
    "komokomoMercedes = get_page(\"https://www.komo.co.il/code/cars/private.asp?yazranNumH=35\")\n",
    "komokomoKia = get_page(\"https://www.komo.co.il/code/cars/private.asp?yazranNumH=52\")\n",
    "komokomoSeat = get_page(\"https://www.komo.co.il/code/cars/private.asp?yazranNumH=40\")\n",
    "komokomoRenault = get_page(\"https://www.komo.co.il/code/cars/private.asp?yazranNumH=55\")\n",
    "komokomoAudi = get_page(\"https://www.komo.co.il/code/cars/private.asp?yazranNumH=2\")\n",
    "komokomoFord = get_page(\"https://www.komo.co.il/code/cars/private.asp?yazranNumH=46\")\n",
    "komokomoNisan = get_page(\"https://www.komo.co.il/code/cars/private.asp?yazranNumH=36\")\n",
    "komokomoHonda = get_page(\"https://www.komo.co.il/code/cars/private.asp?yazranNumH=20\")\n",
    "komokomoChevrolet = get_page(\"https://www.komo.co.il/code/cars/private.asp?yazranNumH=56\")\n",
    "komokomoBMW = get_page(\"https://www.komo.co.il/code/cars/private.asp?yazranNumH=12\")\n",
    "komokomoSuzuki = get_page(\"https://www.komo.co.il/code/cars/private.asp?yazranNumH=39\")\n",
    "komokomoPeugeot = get_page(\"https://www.komo.co.il/code/cars/private.asp?yazranNumH=49\")\n",
    "komokomoSubaru = get_page(\"https://www.komo.co.il/code/cars/private.asp?yazranNumH=38\")\n",
    "komokomoCitroen = get_page(\"https://www.komo.co.il/code/cars/private.asp?yazranNumH=41\")\n",
    "komokomoOpel = get_page(\"https://www.komo.co.il/code/cars/private.asp?yazranNumH=6\")\n",
    "komokomoMitsubishi = get_page(\"https://www.komo.co.il/code/cars/private.asp?yazranNumH=34\")\n",
    "komokomoFiat = get_page(\"https://www.komo.co.il/code/cars/private.asp?yazranNumH=48\")"
   ]
  },
  {
   "cell_type": "code",
   "execution_count": null,
   "id": "920a967a",
   "metadata": {},
   "outputs": [],
   "source": [
    "#List of links\n",
    "listOfPages = [komokomoMazda, komokomoToyota, komokomoHyundai, komokomoSkoda, komokomoVolkswagen,\n",
    "              komokomoMercedes, komokomoKia, komokomoSeat, komokomoRenault, komokomoAudi, komokomoFord, komokomoNisan,\n",
    "              komokomoHonda, komokomoChevrolet, komokomoBMW, komokomoSuzuki, komokomoPeugeot, komokomoSubaru,\n",
    "              komokomoCitroen, komokomoOpel, komokomoMitsubishi, komokomoFiat]\n",
    "\n",
    "modaaPageList = [] #List of links for each page\n",
    "\n",
    "#Attach pages from any link\n",
    "for item in listOfPages:\n",
    "    for i in range(0,9):\n",
    "        nextPage = get_page(\"https://www.komo.co.il/code/cars/private.asp\" + item.find_all('a', attrs = {\"class\" : \"paging\"})[i]['href'])\n",
    "        item.append(nextPage)\n",
    "\n",
    "#Taking the ID of the ad         \n",
    "for item in listOfPages:\n",
    "    modaaPage = item.find_all(\"div\" , attrs = {\"class\" : \"ModaaFavN\"})\n",
    "    for l1 in modaaPage:\n",
    "        for l2 in l1:\n",
    "            modaaPageList.append(str(k))"
   ]
  },
  {
   "cell_type": "code",
   "execution_count": null,
   "id": "c4a250b4",
   "metadata": {},
   "outputs": [],
   "source": [
    "#Slicing the IDs\n",
    "for i in range(0, len(modaaPageList)):\n",
    "    modaaPageList[i] = modaaPageList[i][33:40]\n",
    "    \n",
    "#Arranging the links for crawling    \n",
    "for i in range(0, len(modaaPageList)):\n",
    "    modaaPageList[i] = 'https://www.komo.co.il/code/cars/details/?modaaNum='+ modaaPageList[i]    "
   ]
  },
  {
   "cell_type": "code",
   "execution_count": null,
   "id": "59c8ff30",
   "metadata": {},
   "outputs": [],
   "source": [
    "len(modaaPageList)"
   ]
  },
  {
   "cell_type": "code",
   "execution_count": null,
   "id": "7ad6e4bd",
   "metadata": {},
   "outputs": [],
   "source": [
    "#Create the features\n",
    "yearsList = []\n",
    "kmList = []\n",
    "handList = []\n",
    "areaList = []\n",
    "priceList = []\n",
    "colorList = []\n",
    "descriptionList = []\n",
    "gearboxList = []\n",
    "modleList = []\n",
    "cmList = []\n",
    "\n",
    "#Finding the proper path for each feature\n",
    "for item in modaaPageList:\n",
    "    page = get_page(item)\n",
    "    dataOf_Year_Km_Hand = page.find_all('div', attrs = {\"class\" : \"firstInfo\"})\n",
    "    dataOf_Area = page.find('div', attrs = {\"class\" : \"addresBottom md_f_18\"})\n",
    "    dataOf_Price = page.find(attrs = {\"class\":\"ModaaWDetailsValue md_f_23\"})\n",
    "    dataOf_Color = page.find(\"div\", attrs = {\"class\": \"secondInfoWrap modaaWMoreDetails\"})\n",
    "    dataOf_Description = page.find(id = \"teurWrap\")\n",
    "    dataOf_Gearbox = page.find(\"div\", attrs = {\"class\": \"secondInfoWrap modaaWMoreDetails\"})\n",
    "    dataOf_Modle = page.find_all(\"span\")\n",
    "\n",
    "    #Append the data to each feature\n",
    "    yearsList.append(int(dataOf_Year_Km_Hand[0].text.strip()))\n",
    "    kmList.append(int(dataOf_Year_Km_Hand[1].text.strip()))\n",
    "    handList.append(int(dataOf_Year_Km_Hand[2].text.strip()))\n",
    "    cmList.append(int(dataOf_Year_Km_Hand[3].text.strip()))\n",
    "    areaList.append(dataOf_Area.text.strip())\n",
    "    priceList.append(dataOf_Price.text)\n",
    "    colorList.append(dataOf_Color.ul.text.split('\\n')[3].split(':')[1].strip())\n",
    "    descriptionList.append(dataOf_Description.text.strip())\n",
    "    gearboxList.append(dataOf_Gearbox.ul.text.split('\\n')[1].split(':')[1].strip())\n",
    "    modleList.append(dataOf_Modle[16].text.strip())\n"
   ]
  },
  {
   "cell_type": "code",
   "execution_count": null,
   "id": "39f8c32c",
   "metadata": {},
   "outputs": [],
   "source": [
    "#Extracting the texts\n",
    "#with open(\"komo.txt\", \"w\") as output:\n",
    "    #output.write(str(descriptionList))"
   ]
  },
  {
   "cell_type": "code",
   "execution_count": null,
   "id": "b6062e23",
   "metadata": {},
   "outputs": [],
   "source": [
    "#Two additional features \n",
    "isNewList = []\n",
    "isSavedList = []\n",
    "withoutAccidents = []\n",
    "\n",
    "for i in range(0, len(descriptionList)):\n",
    "    if(\"חדש\" in descriptionList[i]):\n",
    "        isNewList.append(1)\n",
    "    else:\n",
    "        isNewList.append(0)\n",
    "        \n",
    "    if(\"שמור\" in descriptionList[i]):\n",
    "        isSavedList.append(1)\n",
    "    else:\n",
    "        isSavedList.append(0)\n",
    "    if(\"ללא תאונות\" in descriptionList[i]):\n",
    "        withoutAccidents.append(1)\n",
    "    else:\n",
    "        withoutAccidents.append(0)"
   ]
  },
  {
   "cell_type": "code",
   "execution_count": null,
   "id": "66811924",
   "metadata": {
    "scrolled": true
   },
   "outputs": [],
   "source": [
    "for i in range(0, len(modleList)):\n",
    "    modleList[i] = modleList[i].split(\"רכב פרטי\")[1]\n",
    "    modleList[i] = modleList[i].replace(',', '')"
   ]
  },
  {
   "cell_type": "code",
   "execution_count": null,
   "id": "44e4ed9a",
   "metadata": {},
   "outputs": [],
   "source": [
    " for i in range(0, len(priceList)):\n",
    "    if (priceList[i] == 'לא צוין מחיר'):\n",
    "        priceList[i] = 'NaN'\n",
    "    else:\n",
    "        temp = priceList[i].split('₪')[0].replace(',', '')\n",
    "        priceList[i] = float(temp)        "
   ]
  },
  {
   "cell_type": "code",
   "execution_count": null,
   "id": "3284131d",
   "metadata": {},
   "outputs": [],
   "source": [
    "for i in range(0, len(gearboxList)):\n",
    "    if (gearboxList[i] == 'טיפטרוניק' or gearboxList[i] == 'סטפטרוניק' or gearboxList[i] == 'Sטרוניק' or gearboxList[i] == 'dualogic'):\n",
    "        gearboxList[i] = 'רובוטית'"
   ]
  },
  {
   "cell_type": "code",
   "execution_count": null,
   "id": "4550525d",
   "metadata": {},
   "outputs": [],
   "source": [
    "#Creating the DataFreme\n",
    "df = pd.DataFrame({'Year': yearsList, \"Modle\": modleList, 'KM': kmList, 'Hand': handList, 'CM': cmList, 'Color': colorList,\n",
    "                   'Area': areaList,'Gearbox': gearboxList, 'Price': priceList,\n",
    "                   \"IsNew\": isNewList, \"IsSaved\": isSavedList, \"WithoutAccidents\": withoutAccidents})\n",
    "df"
   ]
  },
  {
   "cell_type": "code",
   "execution_count": null,
   "id": "6c166182",
   "metadata": {},
   "outputs": [],
   "source": [
    "#Saving the DataFreame\n",
    "#df.to_csv(\"Komo.csv\")"
   ]
  }
 ],
 "metadata": {
  "kernelspec": {
   "display_name": "Python 3",
   "language": "python",
   "name": "python3"
  },
  "language_info": {
   "codemirror_mode": {
    "name": "ipython",
    "version": 3
   },
   "file_extension": ".py",
   "mimetype": "text/x-python",
   "name": "python",
   "nbconvert_exporter": "python",
   "pygments_lexer": "ipython3",
   "version": "3.8.8"
  }
 },
 "nbformat": 4,
 "nbformat_minor": 5
}
